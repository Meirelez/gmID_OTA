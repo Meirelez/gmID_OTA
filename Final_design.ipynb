{
 "cells": [
  {
   "cell_type": "code",
   "execution_count": 1,
   "id": "3dda9de1-3f65-4265-bf75-52cc853a4f0f",
   "metadata": {},
   "outputs": [
    {
     "name": "stdout",
     "output_type": "stream",
     "text": [
      "Defaulting to user installation because normal site-packages is not writeable\n",
      "Requirement already satisfied: numpy in /home/just/.local/lib/python3.10/site-packages (2.2.4)\n"
     ]
    }
   ],
   "source": [
    "!pip install numpy"
   ]
  },
  {
   "cell_type": "code",
   "execution_count": 7,
   "id": "fea691c7-3568-4196-815b-df1d72e3a9be",
   "metadata": {},
   "outputs": [],
   "source": [
    "import numpy as np\n",
    "from mosplot.plot import load_lookup_table, Mosfet, Expression\n",
    "from TSOTA import core"
   ]
  },
  {
   "cell_type": "code",
   "execution_count": 8,
   "id": "0fb506d8-7788-4fc5-97da-07cd89aae67e",
   "metadata": {},
   "outputs": [],
   "source": [
    "lookup_table = load_lookup_table(\"/home/just/Desktop/teste3/gmid-main/tests/lookup_table_generator/tsm65nm/tsmc65nm_V4.npz\")"
   ]
  },
  {
   "cell_type": "code",
   "execution_count": 9,
   "id": "2eb9814c-89b2-4d70-bf3f-a47686577fad",
   "metadata": {},
   "outputs": [],
   "source": [
    "core.nmos = Mosfet(lookup_table=lookup_table, mos=\"nch_mac\", vbs=0.0, vds=0.6, vgs=(0.2, 1.2))\n",
    "core.pmos = Mosfet(lookup_table=lookup_table, mos=\"pch_mac\", vbs=0.0, vds=-0.6, vgs=(-1.2, -0.2))\n",
    "core.Expression = Expression  # pass in the class"
   ]
  },
  {
   "cell_type": "code",
   "execution_count": 4,
   "id": "aafecd22-be18-4df0-9ecb-73b55e08156d",
   "metadata": {},
   "outputs": [
    {
     "name": "stdout",
     "output_type": "stream",
     "text": [
      "['Circuit', 'DesignParams', 'Expression', 'Mosfet', 'Optional', 'Specs', 'TEMP', 'Transistor', '__builtins__', '__cached__', '__doc__', '__file__', '__loader__', '__name__', '__package__', '__spec__', '_last_design_results', 'calculate_capacitances', 'calculate_compensation_caps', 'calculate_m1_parameters', 'calculate_m2_parameters', 'calculate_self_loading', 'calculate_transistor_widths', 'constants', 'create_netlist', 'dataclass', 'display', 'find_minimum_current_design_fast', 'get_final_design_from_results', 'k', 'launch_ui', 'launch_ui2', 'load_lookup_table', 'nmos', 'np', 'optimize_opamp_design', 'pmos', 're', 'run_full_opamp_design', 'update_scs_file_lw', 'widgets']\n"
     ]
    }
   ],
   "source": [
    "print(dir(core))"
   ]
  },
  {
   "cell_type": "code",
   "execution_count": 5,
   "id": "128bcf02-acfc-40ab-b65d-5b51cafda109",
   "metadata": {},
   "outputs": [
    {
     "data": {
      "application/vnd.jupyter.widget-view+json": {
       "model_id": "87ab896c84ce464b9a8cbe86604c9c48",
       "version_major": 2,
       "version_minor": 0
      },
      "text/plain": [
       "VBox(children=(HTML(value='<h2>🔧 Automatic Op-Amp Optimizer</h2>'), VBox(children=(HTML(value='<h3>📊 Design Sp…"
      ]
     },
     "metadata": {},
     "output_type": "display_data"
    }
   ],
   "source": [
    "if __name__ == \"__main__\":\n",
    "    core.launch_ui2()"
   ]
  },
  {
   "cell_type": "code",
   "execution_count": 10,
   "id": "1d0763f0-8b25-443c-b294-10e5645ebd96",
   "metadata": {},
   "outputs": [],
   "source": [
    "core.create_netlist(\"/home/just/Desktop/gmID_OTA-main/input.scs\", \"/home/just/Desktop/gmID_OTA-main/input_modified.scs\")"
   ]
  },
  {
   "cell_type": "code",
   "execution_count": 11,
   "id": "549eb71b-b216-4f04-879e-6d1efd6dd6e6",
   "metadata": {},
   "outputs": [
    {
     "name": "stdout",
     "output_type": "stream",
     "text": [
      "vb1= [0.45905014]\n",
      "vb2= [0.60142989]\n"
     ]
    }
   ],
   "source": [
    "vb1 =  core.nmos.interpolate(\n",
    "        x_expression=core.nmos.length_expression,\n",
    "        x_value=200e-9,\n",
    "        y_expression=core.nmos.gmid_expression,\n",
    "        y_value=18.256,\n",
    "        z_expression=core.pmos.vgs_expression\n",
    ")\n",
    "print(\"vb1=\",vb1)\n",
    "\n",
    "vsg4 =  core.pmos.interpolate(\n",
    "        x_expression=core.pmos.length_expression,\n",
    "        x_value=150e-9,\n",
    "        y_expression=core.pmos.gmid_expression,\n",
    "        y_value=11.3,\n",
    "        z_expression=core.pmos.vsg_expression\n",
    ")\n",
    "print(\"vb2=\",1.2-vsg4)"
   ]
  },
  {
   "cell_type": "code",
   "execution_count": null,
   "id": "c951b44e-7120-4ed6-8868-1d241708ea4c",
   "metadata": {},
   "outputs": [],
   "source": []
  }
 ],
 "metadata": {
  "kernelspec": {
   "display_name": "Python 3 (ipykernel)",
   "language": "python",
   "name": "python3"
  },
  "language_info": {
   "codemirror_mode": {
    "name": "ipython",
    "version": 3
   },
   "file_extension": ".py",
   "mimetype": "text/x-python",
   "name": "python",
   "nbconvert_exporter": "python",
   "pygments_lexer": "ipython3",
   "version": "3.10.12"
  }
 },
 "nbformat": 4,
 "nbformat_minor": 5
}
